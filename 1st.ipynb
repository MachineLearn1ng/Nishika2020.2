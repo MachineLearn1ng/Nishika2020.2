{
 "cells": [
  {
   "cell_type": "code",
   "execution_count": 2,
   "metadata": {},
   "outputs": [],
   "source": [
    "import pandas as pd"
   ]
  },
  {
   "cell_type": "code",
   "execution_count": 3,
   "metadata": {},
   "outputs": [],
   "source": [
    "from collections import Counter, defaultdict"
   ]
  },
  {
   "cell_type": "code",
   "execution_count": 4,
   "metadata": {},
   "outputs": [],
   "source": [
    "files = [\"auction.csv\",\n",
    "        \"kaiin.csv\",\n",
    "        \"nyuuka_oshirase.csv\",\n",
    "        \"shudounyuusatsu.csv\",\n",
    "        \"watchlist.csv\",#お気に入り追加データ\n",
    "        ]\n",
    "#入札と落札があるが、落札は入札に内包されるはずなので、入札だけ考えれば良いかと"
   ]
  },
  {
   "cell_type": "code",
   "execution_count": 5,
   "metadata": {},
   "outputs": [],
   "source": [
    "df_kaiin = pd.read_csv(\"/Users/yuki/Desktop/nishika_competition/brandear_competition/kaiin.csv\")"
   ]
  },
  {
   "cell_type": "code",
   "execution_count": 6,
   "metadata": {},
   "outputs": [],
   "source": [
    "df_auction = pd.read_csv(\"/Users/yuki/Desktop/nishika_competition/brandear_competition/auction.csv\")"
   ]
  },
  {
   "cell_type": "code",
   "execution_count": 7,
   "metadata": {},
   "outputs": [],
   "source": [
    "df_submission = pd.read_csv(\"/Users/yuki/Desktop/nishika_competition/brandear_competition/sample_submission.csv\")"
   ]
  },
  {
   "cell_type": "code",
   "execution_count": 8,
   "metadata": {},
   "outputs": [],
   "source": [
    "df_nyuusatsu = pd.read_csv(\"/Users/yuki/Desktop/nishika_competition/brandear_competition/shudounyuusatsu.csv\")"
   ]
  },
  {
   "cell_type": "code",
   "execution_count": 9,
   "metadata": {},
   "outputs": [],
   "source": [
    "df_watchlist = pd.read_csv(\"/Users/yuki/Desktop/nishika_competition/brandear_competition/watchlist.csv\")"
   ]
  },
  {
   "cell_type": "code",
   "execution_count": 50,
   "metadata": {},
   "outputs": [],
   "source": [
    "#test_kaiin_id =  [df_submission[\"KaiinID\"].iloc[int(i*20)] for i in range(int(len(df_submission[\"KaiinID\"])/20))]"
   ]
  },
  {
   "cell_type": "code",
   "execution_count": 10,
   "metadata": {},
   "outputs": [
    {
     "name": "stderr",
     "output_type": "stream",
     "text": [
      "/Users/yuki/anaconda3/lib/python3.7/site-packages/IPython/core/interactiveshell.py:3049: DtypeWarning: Columns (10,12) have mixed types. Specify dtype option on import or set low_memory=False.\n",
      "  interactivity=interactivity, compiler=compiler, result=result)\n"
     ]
    }
   ],
   "source": [
    "log = pd.read_csv(\"search_log.tsv\",delimiter='\\t')"
   ]
  },
  {
   "cell_type": "code",
   "execution_count": null,
   "metadata": {},
   "outputs": [],
   "source": [
    "#9月17日から23日までのデータを訓練データとする"
   ]
  },
  {
   "cell_type": "code",
   "execution_count": 51,
   "metadata": {},
   "outputs": [],
   "source": [
    "df_nyuusatsu_train = df_nyuusatsu.iloc[-12135:-1] #正解が含まれているから使わないよ。\n",
    "df_nyuusatsu_train = df_nyuusatsu.reset_index(drop=True)"
   ]
  },
  {
   "cell_type": "code",
   "execution_count": 12,
   "metadata": {},
   "outputs": [],
   "source": [
    "kaiin_dict = defaultdict(int)\n",
    "for d in df_nyuusatsu_train[\"KaiinID\"]:\n",
    "    kaiin_dict[int(d)] += 1"
   ]
  },
  {
   "cell_type": "code",
   "execution_count": 29,
   "metadata": {},
   "outputs": [],
   "source": [
    "train_kaiin_id = []\n",
    "for k in kaiin_dict:\n",
    "    if kaiin_dict[k] <= 60:\n",
    "        train_kaiin_id.append(k)"
   ]
  },
  {
   "cell_type": "code",
   "execution_count": 30,
   "metadata": {},
   "outputs": [
    {
     "data": {
      "text/plain": [
       "2295"
      ]
     },
     "execution_count": 30,
     "metadata": {},
     "output_type": "execute_result"
    }
   ],
   "source": [
    "len(train_kaiin_id)"
   ]
  },
  {
   "cell_type": "code",
   "execution_count": 31,
   "metadata": {},
   "outputs": [
    {
     "data": {
      "text/plain": [
       "KaiinID                     146248\n",
       "AuctionID                   887828\n",
       "TourokuDate    2019-09-17 00:00:03\n",
       "SakujoFlag                       0\n",
       "Name: 775444, dtype: object"
      ]
     },
     "execution_count": 31,
     "metadata": {},
     "output_type": "execute_result"
    }
   ],
   "source": [
    "df_watchlist.iloc[775444]"
   ]
  },
  {
   "cell_type": "code",
   "execution_count": 32,
   "metadata": {},
   "outputs": [
    {
     "data": {
      "text/plain": [
       "KaiinID                      72159\n",
       "AuctionID                   750614\n",
       "TourokuDate    2019-09-23 23:59:59\n",
       "SakujoFlag                       1\n",
       "Name: 860508, dtype: object"
      ]
     },
     "execution_count": 32,
     "metadata": {},
     "output_type": "execute_result"
    }
   ],
   "source": [
    "df_watchlist.iloc[860508]"
   ]
  },
  {
   "cell_type": "code",
   "execution_count": 49,
   "metadata": {},
   "outputs": [],
   "source": [
    "df_watchlist_x = pd.concat([df_watchlist.iloc[0:775444], df_watchlist.iloc[860509:-1]])\n",
    "df_watchlist_x = df_watchlist_x.reset_index(drop=True)"
   ]
  },
  {
   "cell_type": "code",
   "execution_count": 40,
   "metadata": {},
   "outputs": [
    {
     "data": {
      "text/html": [
       "<div>\n",
       "<style scoped>\n",
       "    .dataframe tbody tr th:only-of-type {\n",
       "        vertical-align: middle;\n",
       "    }\n",
       "\n",
       "    .dataframe tbody tr th {\n",
       "        vertical-align: top;\n",
       "    }\n",
       "\n",
       "    .dataframe thead th {\n",
       "        text-align: right;\n",
       "    }\n",
       "</style>\n",
       "<table border=\"1\" class=\"dataframe\">\n",
       "  <thead>\n",
       "    <tr style=\"text-align: right;\">\n",
       "      <th></th>\n",
       "      <th>KaiinID</th>\n",
       "      <th>AuctionID</th>\n",
       "      <th>TourokuDate</th>\n",
       "      <th>SakujoFlag</th>\n",
       "    </tr>\n",
       "  </thead>\n",
       "  <tbody>\n",
       "    <tr>\n",
       "      <th>775444</th>\n",
       "      <td>146248</td>\n",
       "      <td>887828</td>\n",
       "      <td>2019-09-17 00:00:03</td>\n",
       "      <td>0</td>\n",
       "    </tr>\n",
       "  </tbody>\n",
       "</table>\n",
       "</div>"
      ],
      "text/plain": [
       "        KaiinID  AuctionID          TourokuDate  SakujoFlag\n",
       "775444   146248     887828  2019-09-17 00:00:03           0"
      ]
     },
     "execution_count": 40,
     "metadata": {},
     "output_type": "execute_result"
    }
   ],
   "source": [
    "df_watchlist_y = df_watchlist.iloc[775444:860509]\n",
    "df_watchlist_y.head(1)"
   ]
  },
  {
   "cell_type": "code",
   "execution_count": 43,
   "metadata": {},
   "outputs": [],
   "source": [
    "df_watchlist_y = df_watchlist.iloc[775444:860509]\n",
    "df_watchlist_y = df_watchlist_y.reset_index(drop=True)\n",
    "l_y = []\n",
    "for i, d in enumerate(df_watchlist_y[\"KaiinID\"]):\n",
    "    if d in train_kaiin_id:\n",
    "        l_y.append([d, df_watchlist_y[\"AuctionID\"][i],\n",
    "                   df_watchlist_y[\"TourokuDate\"][i], 1])\n",
    "df_watchlist_y = pd.DataFrame(l_y, columns=[\"KaiinID\", \"AuctionID\", \"Date\", \"N\"])"
   ]
  },
  {
   "cell_type": "code",
   "execution_count": 57,
   "metadata": {},
   "outputs": [
    {
     "data": {
      "text/html": [
       "<div>\n",
       "<style scoped>\n",
       "    .dataframe tbody tr th:only-of-type {\n",
       "        vertical-align: middle;\n",
       "    }\n",
       "\n",
       "    .dataframe tbody tr th {\n",
       "        vertical-align: top;\n",
       "    }\n",
       "\n",
       "    .dataframe thead th {\n",
       "        text-align: right;\n",
       "    }\n",
       "</style>\n",
       "<table border=\"1\" class=\"dataframe\">\n",
       "  <thead>\n",
       "    <tr style=\"text-align: right;\">\n",
       "      <th></th>\n",
       "      <th>KaiinID</th>\n",
       "      <th>AuctionID</th>\n",
       "      <th>Date</th>\n",
       "      <th>N</th>\n",
       "    </tr>\n",
       "  </thead>\n",
       "  <tbody>\n",
       "    <tr>\n",
       "      <th>0</th>\n",
       "      <td>146248</td>\n",
       "      <td>887828</td>\n",
       "      <td>2019-09-17 00:00:03</td>\n",
       "      <td>1</td>\n",
       "    </tr>\n",
       "  </tbody>\n",
       "</table>\n",
       "</div>"
      ],
      "text/plain": [
       "   KaiinID  AuctionID                 Date  N\n",
       "0   146248     887828  2019-09-17 00:00:03  1"
      ]
     },
     "execution_count": 57,
     "metadata": {},
     "output_type": "execute_result"
    }
   ],
   "source": [
    "df_watchlist_y.head(1)"
   ]
  },
  {
   "cell_type": "code",
   "execution_count": 55,
   "metadata": {},
   "outputs": [],
   "source": [
    "ll_y = []\n",
    "for i, d in enumerate(df_nyuusatsu_train[\"KaiinID\"]):\n",
    "    if d in train_kaiin_id:\n",
    "        ll_y.append([d, df_nyuusatsu_train[\"AuctionID\"][i],\n",
    "                     df_nyuusatsu_train[\"ShudouNyuusatsuDate\"][i],\n",
    "                     2])\n",
    "df_nyuusatsu_y = pd.DataFrame(ll_y, columns=[\"KaiinID\",\"AuctionID\",\"Date\",\"N\"])"
   ]
  },
  {
   "cell_type": "code",
   "execution_count": 56,
   "metadata": {},
   "outputs": [
    {
     "data": {
      "text/html": [
       "<div>\n",
       "<style scoped>\n",
       "    .dataframe tbody tr th:only-of-type {\n",
       "        vertical-align: middle;\n",
       "    }\n",
       "\n",
       "    .dataframe tbody tr th {\n",
       "        vertical-align: top;\n",
       "    }\n",
       "\n",
       "    .dataframe thead th {\n",
       "        text-align: right;\n",
       "    }\n",
       "</style>\n",
       "<table border=\"1\" class=\"dataframe\">\n",
       "  <thead>\n",
       "    <tr style=\"text-align: right;\">\n",
       "      <th></th>\n",
       "      <th>KaiinID</th>\n",
       "      <th>AuctionID</th>\n",
       "      <th>Date</th>\n",
       "      <th>N</th>\n",
       "    </tr>\n",
       "  </thead>\n",
       "  <tbody>\n",
       "    <tr>\n",
       "      <th>0</th>\n",
       "      <td>258477</td>\n",
       "      <td>636604</td>\n",
       "      <td>2018-09-01 19:46:13</td>\n",
       "      <td>2</td>\n",
       "    </tr>\n",
       "  </tbody>\n",
       "</table>\n",
       "</div>"
      ],
      "text/plain": [
       "   KaiinID  AuctionID                 Date  N\n",
       "0   258477     636604  2018-09-01 19:46:13  2"
      ]
     },
     "execution_count": 56,
     "metadata": {},
     "output_type": "execute_result"
    }
   ],
   "source": [
    "df_nyuusatsu_y.head(1)"
   ]
  },
  {
   "cell_type": "code",
   "execution_count": 61,
   "metadata": {},
   "outputs": [],
   "source": [
    "train_y = pd.concat([df_nyuusatsu_y, df_watchlist_y])\n",
    "train_y = train_y.reset_index(drop=True)"
   ]
  },
  {
   "cell_type": "code",
   "execution_count": 64,
   "metadata": {},
   "outputs": [
    {
     "data": {
      "text/plain": [
       "262316"
      ]
     },
     "execution_count": 64,
     "metadata": {},
     "output_type": "execute_result"
    }
   ],
   "source": [
    "len(train_y)"
   ]
  },
  {
   "cell_type": "code",
   "execution_count": 76,
   "metadata": {},
   "outputs": [
    {
     "data": {
      "text/plain": [
       "4109559"
      ]
     },
     "execution_count": 76,
     "metadata": {},
     "output_type": "execute_result"
    }
   ],
   "source": [
    "len(df_auction)"
   ]
  },
  {
   "cell_type": "code",
   "execution_count": null,
   "metadata": {},
   "outputs": [],
   "source": [
    "\n",
    "feature_y = []\n",
    "for j, t in enumerate(df_auction[\"AuctionID\"]):\n",
    "    for i, d in enumerate(train_y[\"AuctionID\"]):\n",
    "        if d == t:\n",
    "            feature_y.append([d, train_y[\"KaiinID\"][i],\n",
    "                            train_y[\"Date\"][i],\n",
    "                            train_y[\"N\"][i],\n",
    "                          df_auction[\"ShouhinShubetsuID\"][j],\n",
    "                           df_auction[\"ConditionID\"][j],\n",
    "                           df_auction[\"BrandID\"][j],\n",
    "                           df_auction[\"GenreID\"][j],\n",
    "                           df_auction[\"GenreGroupID\"][j],\n",
    "                           df_auction[\"LineID\"][j],\n",
    "                           df_auction[\"ColorID\"][j],\n",
    "                           df_auction[\"DanjobetsuID\"][j],\n",
    "                           df_auction[\"SankouKakaku\"][j]]\n",
    "                          )\n",
    "            continue\n",
    "    if j == 1000000:\n",
    "        print(1000000)"
   ]
  },
  {
   "cell_type": "code",
   "execution_count": 65,
   "metadata": {},
   "outputs": [],
   "source": [
    "df_nyuusatsu_train_2 = df_nyuusatsu.iloc[0:len(df_nyuusatsu)-12136]"
   ]
  },
  {
   "cell_type": "code",
   "execution_count": 66,
   "metadata": {},
   "outputs": [
    {
     "data": {
      "text/html": [
       "<div>\n",
       "<style scoped>\n",
       "    .dataframe tbody tr th:only-of-type {\n",
       "        vertical-align: middle;\n",
       "    }\n",
       "\n",
       "    .dataframe tbody tr th {\n",
       "        vertical-align: top;\n",
       "    }\n",
       "\n",
       "    .dataframe thead th {\n",
       "        text-align: right;\n",
       "    }\n",
       "</style>\n",
       "<table border=\"1\" class=\"dataframe\">\n",
       "  <thead>\n",
       "    <tr style=\"text-align: right;\">\n",
       "      <th></th>\n",
       "      <th>AuctionID</th>\n",
       "      <th>KaiinID</th>\n",
       "      <th>ShudouNyuusatsuDate</th>\n",
       "      <th>Kingaku</th>\n",
       "      <th>Suuryou</th>\n",
       "      <th>SokketsuFlag</th>\n",
       "      <th>SakujoFlag</th>\n",
       "    </tr>\n",
       "  </thead>\n",
       "  <tbody>\n",
       "    <tr>\n",
       "      <th>0</th>\n",
       "      <td>3744587</td>\n",
       "      <td>227198</td>\n",
       "      <td>2018-09-01 21:40:44</td>\n",
       "      <td>18000</td>\n",
       "      <td>1</td>\n",
       "      <td>0</td>\n",
       "      <td>1</td>\n",
       "    </tr>\n",
       "  </tbody>\n",
       "</table>\n",
       "</div>"
      ],
      "text/plain": [
       "   AuctionID  KaiinID  ShudouNyuusatsuDate  Kingaku  Suuryou  SokketsuFlag  \\\n",
       "0    3744587   227198  2018-09-01 21:40:44    18000        1             0   \n",
       "\n",
       "   SakujoFlag  \n",
       "0           1  "
      ]
     },
     "execution_count": 66,
     "metadata": {},
     "output_type": "execute_result"
    }
   ],
   "source": [
    "df_nyuusatsu_train_2.head(1)"
   ]
  },
  {
   "cell_type": "code",
   "execution_count": 67,
   "metadata": {},
   "outputs": [],
   "source": [
    "train = []\n",
    "for i, d in enumerate(df_nyuusatsu_train_2[\"KaiinID\"]):\n",
    "    if d in train_kaiin_id:\n",
    "        train.append([d, df_nyuusatsu_train_2[\"AuctionID\"][i], df_nyuusatsu_train_2[\"ShudouNyuusatsuDate\"][i], 2])\n",
    "for i, d in enumerate(df_watchlist_x[\"KaiinID\"]):\n",
    "    if d in train_kaiin_id:\n",
    "        train.append([d, df_watchlist_x[\"AuctionID\"][i], df_watchlist_x[\"TourokuDate\"][i], 1])\n",
    "train_x = pd.DataFrame(train, columns=[\"KaiinID\",\"AuctionID\", \"Date\", \"N\"])"
   ]
  },
  {
   "cell_type": "code",
   "execution_count": 69,
   "metadata": {},
   "outputs": [],
   "source": [
    "train_x.to_csv(\"train_x.csv\",index=False)"
   ]
  },
  {
   "cell_type": "code",
   "execution_count": 81,
   "metadata": {},
   "outputs": [
    {
     "data": {
      "text/plain": [
       "KaiinID                    89469\n",
       "AuctionID                1664323\n",
       "Date         2019-09-02 21:39:15\n",
       "Name: 300000, dtype: object"
      ]
     },
     "execution_count": 81,
     "metadata": {},
     "output_type": "execute_result"
    }
   ],
   "source": [
    "train_x.iloc[300000]"
   ]
  },
  {
   "cell_type": "code",
   "execution_count": null,
   "metadata": {},
   "outputs": [],
   "source": [
    "feature = []\n",
    "for j, t in enumerate(df_auction[\"AuctionID\"]):\n",
    "    for i, d in enumerate(train_x[\"AuctionID\"]):\n",
    "        if d == t:\n",
    "            feature.append([d, train_x[\"KaiinID\"][i],\n",
    "                            train_x[\"Date\"][i],\n",
    "                          df_auction[\"ShouhinShubetsuID\"][j],\n",
    "                           df_auction[\"ConditionID\"][j],\n",
    "                           df\n",
    "                            _auction[\"BrandID\"][j],\n",
    "                           df_auction[\"GenreID\"][j],\n",
    "                           df_auction[\"GenreGroupID\"][j],\n",
    "                           df_auction[\"LineID\"][j],\n",
    "                           df_auction[\"ColorID\"][j],\n",
    "                           df_auction[\"DanjobetsuID\"][j],\n",
    "                           df_auction[\"SankouKakaku\"][j]]\n",
    "                          )\n",
    "            continue"
   ]
  },
  {
   "cell_type": "code",
   "execution_count": 75,
   "metadata": {},
   "outputs": [
    {
     "data": {
      "text/plain": [
       "1176689"
      ]
     },
     "execution_count": 75,
     "metadata": {},
     "output_type": "execute_result"
    }
   ],
   "source": [
    "len(train_x)"
   ]
  },
  {
   "cell_type": "code",
   "execution_count": 76,
   "metadata": {},
   "outputs": [
    {
     "data": {
      "text/plain": [
       "4109559"
      ]
     },
     "execution_count": 76,
     "metadata": {},
     "output_type": "execute_result"
    }
   ],
   "source": [
    "len(df_auction)"
   ]
  },
  {
   "cell_type": "code",
   "execution_count": 38,
   "metadata": {},
   "outputs": [
    {
     "data": {
      "text/html": [
       "<div>\n",
       "<style scoped>\n",
       "    .dataframe tbody tr th:only-of-type {\n",
       "        vertical-align: middle;\n",
       "    }\n",
       "\n",
       "    .dataframe tbody tr th {\n",
       "        vertical-align: top;\n",
       "    }\n",
       "\n",
       "    .dataframe thead th {\n",
       "        text-align: right;\n",
       "    }\n",
       "</style>\n",
       "<table border=\"1\" class=\"dataframe\">\n",
       "  <thead>\n",
       "    <tr style=\"text-align: right;\">\n",
       "      <th></th>\n",
       "      <th>AuctionID</th>\n",
       "      <th>ShouhinShubetsuID</th>\n",
       "      <th>ShouhinID</th>\n",
       "      <th>SaishuppinKaisuu</th>\n",
       "      <th>ConditionID</th>\n",
       "      <th>BrandID</th>\n",
       "      <th>GenreID</th>\n",
       "      <th>GenreGroupID</th>\n",
       "      <th>LineID</th>\n",
       "      <th>ColorID</th>\n",
       "      <th>DanjobetsuID</th>\n",
       "      <th>SankouKakaku</th>\n",
       "      <th>CreateDate</th>\n",
       "    </tr>\n",
       "  </thead>\n",
       "  <tbody>\n",
       "    <tr>\n",
       "      <th>0</th>\n",
       "      <td>4066465</td>\n",
       "      <td>1</td>\n",
       "      <td>620477</td>\n",
       "      <td>334</td>\n",
       "      <td>6</td>\n",
       "      <td>494</td>\n",
       "      <td>321</td>\n",
       "      <td>312</td>\n",
       "      <td>0</td>\n",
       "      <td>15</td>\n",
       "      <td>0</td>\n",
       "      <td>4000</td>\n",
       "      <td>2019-07-27 09:31:34</td>\n",
       "    </tr>\n",
       "  </tbody>\n",
       "</table>\n",
       "</div>"
      ],
      "text/plain": [
       "   AuctionID  ShouhinShubetsuID  ShouhinID  SaishuppinKaisuu  ConditionID  \\\n",
       "0    4066465                  1     620477               334            6   \n",
       "\n",
       "   BrandID  GenreID  GenreGroupID  LineID  ColorID  DanjobetsuID  \\\n",
       "0      494      321           312       0       15             0   \n",
       "\n",
       "   SankouKakaku           CreateDate  \n",
       "0          4000  2019-07-27 09:31:34  "
      ]
     },
     "execution_count": 38,
     "metadata": {},
     "output_type": "execute_result"
    }
   ],
   "source": [
    "train_x_2 = df.DataFrame(feature, columns=[\"AuctionID\",\"KaiinID\",\"ShouhinShubetsuID\",\"ConditionID\",\n",
    "                                           \"BrandID\",\"GenreID\",\"GenreGroupID\",\"LineID\",\"ColorID\",\"DanjobetsuID\",\n",
    "                                          \"SankouKakaku\"])"
   ]
  },
  {
   "cell_type": "code",
   "execution_count": 34,
   "metadata": {},
   "outputs": [
    {
     "data": {
      "text/html": [
       "<div>\n",
       "<style scoped>\n",
       "    .dataframe tbody tr th:only-of-type {\n",
       "        vertical-align: middle;\n",
       "    }\n",
       "\n",
       "    .dataframe tbody tr th {\n",
       "        vertical-align: top;\n",
       "    }\n",
       "\n",
       "    .dataframe thead th {\n",
       "        text-align: right;\n",
       "    }\n",
       "</style>\n",
       "<table border=\"1\" class=\"dataframe\">\n",
       "  <thead>\n",
       "    <tr style=\"text-align: right;\">\n",
       "      <th></th>\n",
       "      <th>KaiinID</th>\n",
       "      <th>AuctionID</th>\n",
       "      <th>TourokuDate</th>\n",
       "      <th>SakujoFlag</th>\n",
       "    </tr>\n",
       "  </thead>\n",
       "  <tbody>\n",
       "    <tr>\n",
       "      <th>0</th>\n",
       "      <td>231713</td>\n",
       "      <td>1036190</td>\n",
       "      <td>2018-09-01 00:00:16</td>\n",
       "      <td>1</td>\n",
       "    </tr>\n",
       "    <tr>\n",
       "      <th>1</th>\n",
       "      <td>225585</td>\n",
       "      <td>4043640</td>\n",
       "      <td>2018-09-01 00:00:34</td>\n",
       "      <td>1</td>\n",
       "    </tr>\n",
       "    <tr>\n",
       "      <th>2</th>\n",
       "      <td>75217</td>\n",
       "      <td>3100882</td>\n",
       "      <td>2018-09-01 00:00:44</td>\n",
       "      <td>1</td>\n",
       "    </tr>\n",
       "  </tbody>\n",
       "</table>\n",
       "</div>"
      ],
      "text/plain": [
       "   KaiinID  AuctionID          TourokuDate  SakujoFlag\n",
       "0   231713    1036190  2018-09-01 00:00:16           1\n",
       "1   225585    4043640  2018-09-01 00:00:34           1\n",
       "2    75217    3100882  2018-09-01 00:00:44           1"
      ]
     },
     "execution_count": 34,
     "metadata": {},
     "output_type": "execute_result"
    }
   ],
   "source": [
    "df_watchlist.head(3)"
   ]
  },
  {
   "cell_type": "code",
   "execution_count": 57,
   "metadata": {},
   "outputs": [
    {
     "data": {
      "text/plain": [
       "AuctionID                          3368992\n",
       "KaiinID                             129830\n",
       "ShudouNyuusatsuDate    2019-09-16 14:29:05\n",
       "Kingaku                              11400\n",
       "Suuryou                                  1\n",
       "SokketsuFlag                             0\n",
       "SakujoFlag                               1\n",
       "Name: 600000, dtype: object"
      ]
     },
     "execution_count": 57,
     "metadata": {},
     "output_type": "execute_result"
    }
   ],
   "source": [
    "df_nyuusatsu.iloc[600000]"
   ]
  },
  {
   "cell_type": "code",
   "execution_count": null,
   "metadata": {},
   "outputs": [],
   "source": []
  }
 ],
 "metadata": {
  "kernelspec": {
   "display_name": "Python 3",
   "language": "python",
   "name": "python3"
  },
  "language_info": {
   "codemirror_mode": {
    "name": "ipython",
    "version": 3
   },
   "file_extension": ".py",
   "mimetype": "text/x-python",
   "name": "python",
   "nbconvert_exporter": "python",
   "pygments_lexer": "ipython3",
   "version": "3.7.3"
  }
 },
 "nbformat": 4,
 "nbformat_minor": 2
}
